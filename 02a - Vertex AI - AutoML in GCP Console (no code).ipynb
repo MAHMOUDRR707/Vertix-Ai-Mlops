{
 "cells": [
  {
   "cell_type": "markdown",
   "id": "66e431d5",
   "metadata": {},
   "source": [
    "---\n",
    "## Create Dataset (link to BigQuery table)\n",
    "\n",
    "From the Console:\n",
    "- Go to Vertex AI\n",
    "- Selected `Datasets`\n",
    "- Select `CREATE DATASET`\n",
    "\n",
    "<img src=\"../architectures/notebooks/02a_screenshots/ds_1.png\" width=\"50%\">\n",
    "\n",
    "- Name the dataset `02a`\n",
    "- Select `Tabular` and `Regression/classification`\n",
    "    - [More on Model Types](https://cloud.google.com/vertex-ai/docs/start/automl-model-types)\n",
    "- Click `Create`\n",
    "\n",
    "<img src=\"../architectures/notebooks/02a_screenshots/ds_2.png\" width=\"50%\">\n",
    "\n",
    "- Under Select a data source pick `Select a table or view from BigQuery`\n",
    "- Enter the BigQuery path (or browse) to the prepped table created in notebook 01\n",
    "- Click `CONTINUE`\n",
    "\n",
    "<img src=\"../architectures/notebooks/02a_screenshots/ds_3.png\" width=\"50%\">\n",
    "\n",
    "- The `ANALYZE` tab for the dataset will be displayed for review:\n",
    "\n",
    "<img src=\"../architectures/notebooks/02a_screenshots/ds_4.png\" width=\"50%\">\n",
    "\n",
    "- Going back to the `Datasets` dashboard will display the registered dataset\n",
    "\n",
    "<img src=\"../architectures/notebooks/02a_screenshots/ds_5.png\" width=\"50%\">"
   ]
  },
  {
   "cell_type": "markdown",
   "id": "87433be1",
   "metadata": {},
   "source": [
    "---\n",
    "## Train Model with AutoML\n",
    "\n",
    "On The Vertex AI console, select `Training`:\n",
    "\n",
    "<img src=\"../architectures/notebooks/02a_screenshots/train_1.png\" width=\"50%\">\n",
    "\n",
    "Next to `Training` (near the top), select `CREATE`\n",
    "- For Dataset enter `02a`\n",
    "- For Objective make sure `Classification` is selected\n",
    "- Use `AutoML` for the method\n",
    "- Click `CONTINUE`\n",
    "\n",
    "<img src=\"../architectures/notebooks/02a_screenshots/train_2.png\" width=\"50%\">\n",
    "\n",
    "For `Model Details`:\n",
    "- Keep the default `Model name` which appends a datetime to the end of the dataset name\n",
    "- For `Target column` select the column to train predictions for\n",
    "- Expand `ADVANCED OPTIONS`:\n",
    "    - Select `Manual` for the Data split method\n",
    "    - Select the `splits` variables that was created in Notebook 01\n",
    "- Click `CONTINUE`\n",
    "\n",
    "<img src=\"../architectures/notebooks/02a_screenshots/train_3.png\" width=\"50%\">\n",
    "\n",
    "For `Training options`:\n",
    "- Click the `-` symbol next to any rows for variables that should be excluded from training, like the `transaction_id`\n",
    "- More on Adavanced Options:\n",
    "    - [Model Weights](https://cloud.google.com/vertex-ai/docs/datasets/prepare-tabular#weight)\n",
    "    - [Optimization Objectives](https://cloud.google.com/vertex-ai/docs/training/tabular-opt-obj)\n",
    "        - Pick AUC PR (Due to imbalance in Class)\n",
    "- Click `CONTINUE`\n",
    "\n",
    "<img src=\"../architectures/notebooks/02a_screenshots/train_4.png\" width=\"50%\">\n",
    "\n",
    "For `Compute and pricing`:\n",
    "- Enter a `Budget` of 1 node hour\n",
    "    - A guide for choosing the right amount of time can be found [here](https://cloud.google.com/vertex-ai/docs/training/automl-console#tabular): \n",
    "- Make sure `Enable early stopping` is toggled on\n",
    "- Click `START TRAINING`\n",
    "\n",
    "<img src=\"../architectures/notebooks/02a_screenshots/train_5.png\" width=\"50%\">\n",
    "\n",
    "Return to the Vertex AI console `Training` Menu:\n",
    "- Once the model completes training the name will be accompanied by a green check mark\n",
    "\n",
    "<img src=\"../architectures/notebooks/02a_screenshots/train_6.png\" width=\"50%\">"
   ]
  },
  {
   "cell_type": "markdown",
   "id": "1a962bf5",
   "metadata": {},
   "source": [
    "---\n",
    "## Model: Evaluate, Select, Deploy\n",
    "\n",
    "On the Vertex AI console, select `Models`\n",
    "\n",
    "<img src=\"../architectures/notebooks/02a_screenshots/model_1.png\" width=\"50%\">\n",
    "\n",
    "Select the model that was just trained - starts with `02a`:\n",
    "- This brings up the `EVALUATE` tab for the model\n",
    "\n",
    "<img src=\"../architectures/notebooks/02a_screenshots/model_2.png\" width=\"50%\">\n",
    "\n",
    "Select the tab labeled `DEPLOY & TEST`:\n",
    "\n",
    "<img src=\"../architectures/notebooks/02a_screenshots/model_3.png\" width=\"50%\">"
   ]
  },
  {
   "cell_type": "markdown",
   "id": "af28bd96",
   "metadata": {},
   "source": [
    "---\n",
    "## Endpoint\n",
    "\n",
    "While still on the Vetex AI `Models` section with the `DEPLOY & TEST` tab selected:\n",
    "- select `DEPLOY TO ENDPOINT`\n",
    "\n",
    "<img src=\"../architectures/notebooks/02a_screenshots/model_3.png\" width=\"50%\">\n",
    "\n",
    "In the `Deploy to endpoint` menus, complete `Define your endpoint`:\n",
    "- For Endpoint name use `02a`\n",
    "- keep defaults for location and Access\n",
    "- Select `CONTINUE`\n",
    "\n",
    "<img src=\"../architectures/notebooks/02a_screenshots/endpoint_1.png\" width=\"50%\">\n",
    "\n",
    "In the `Model settings` section:\n",
    "- Traffic split should be 100\n",
    "- minimum number of computes nodes is 1\n",
    "- keep the remaining default values for max nodes, scaling, logging and explainability\n",
    "- Select `CONTINUE`\n",
    "\n",
    "<img src=\"../architectures/notebooks/02a_screenshots/endpoint_2.png\" width=\"50%\">\n",
    "\n",
    "In the `Model monitoring` section:\n",
    "- Toggle `Enable model monitoring for this endpoint` on\n",
    "    - for monitoring job use the name `02a`\n",
    "    - use defaults for the other menue items\n",
    "- Select `CONTINUE`\n",
    "\n",
    "<img src=\"../architectures/notebooks/02a_screenshots/endpoint_3.png\" width=\"50%\">\n",
    "\n",
    "In the `Monitoring objectives` section:\n",
    "- Select `Prediction Drift Detection` under Monitoring objective\n",
    "- Select `DEPLOY`\n",
    "\n",
    "<img src=\"../architectures/notebooks/02a_screenshots/endpoint_4.png\" width=\"50%\">\n",
    "\n",
    "Once the model is done being deployed to the endpoint, click the `Endpoints` section of Vertex AI:\n",
    "- Select the endpoint that starts with `02a`\n",
    "- Review the endpoint dashboard for the deployed model\n",
    "\n",
    "<img src=\"../architectures/notebooks/02a_screenshots/endpoint_5.png\" width=\"50%\">\n"
   ]
  },
  {
   "cell_type": "markdown",
   "id": "4066f242",
   "metadata": {},
   "source": [
    "---\n",
    "## Batch\n",
    "\n",
    "In the Verex AI console select the `Batch predictions` section:\n",
    "\n",
    "<img src=\"../architectures/notebooks/02a_screenshots/batch_1.png\" width=\"50%\">\n",
    "\n",
    "Select `Create`:\n",
    "- name the prediction `02a`\n",
    "- for model name select the model that starts with `02a`\n",
    "- for Select source, pick BigQuery table\n",
    "- provide the location of the BigQuery source table\n",
    "- for storage location pick output format of BigQuery\n",
    "- provide the project for output in BigQuery\n",
    "- select `Generate feature importance`\n",
    "- select `Enable feature attributions for this model`\n",
    "- select `CREATE`\n",
    "\n",
    "<img src=\"../architectures/notebooks/02a_screenshots/batch_2.png\" width=\"50%\">\n",
    "\n",
    "Once the batch prediction job completes it will be listed with a green checkmark under `Batch Predictions`\n",
    "\n",
    "<img src=\"../architectures/notebooks/02a_screenshots/batch_3.png\" width=\"50%\">\n",
    "\n",
    "Selecting the batch prediction job that starts with `02a` bring up the details of the prediction job\n",
    "\n",
    "<img src=\"../architectures/notebooks/02a_screenshots/batch_4.png\" width=\"50%\">\n",
    "\n",
    "Select the linked BigQuery output table next to `Export location`:\n",
    "\n",
    "<img src=\"../architectures/notebooks/02a_screenshots/batch_5.png\" width=\"50%\">"
   ]
  },
  {
   "cell_type": "markdown",
   "id": "33a23c17",
   "metadata": {},
   "source": [
    "---\n",
    "## Prediction"
   ]
  },
  {
   "cell_type": "markdown",
   "id": "a42e6c09",
   "metadata": {},
   "source": [
    "inputs:"
   ]
  },
  {
   "cell_type": "code",
   "execution_count": 2,
   "id": "baf1e84b-8051-4c36-a99a-77703ec42f67",
   "metadata": {},
   "outputs": [
    {
     "data": {
      "text/plain": [
       "'ivory-plane-372610'"
      ]
     },
     "execution_count": 2,
     "metadata": {},
     "output_type": "execute_result"
    }
   ],
   "source": [
    "project = !gcloud config get-value project\n",
    "PROJECT_ID = project[0]\n",
    "PROJECT_ID"
   ]
  },
  {
   "cell_type": "code",
   "execution_count": 14,
   "id": "190ee41c",
   "metadata": {},
   "outputs": [],
   "source": [
    "REGION = 'us-central1'\n",
    "DATANAME = 'fraud'\n",
    "NOTEBOOK = 'untitled_1672326136251'\n",
    "\n",
    "# Model Training\n",
    "VAR_TARGET = 'Class'\n",
    "VAR_OMIT = 'transaction_id' # add more variables to the string with space delimiters"
   ]
  },
  {
   "cell_type": "markdown",
   "id": "352e4abd",
   "metadata": {},
   "source": [
    "packages:"
   ]
  },
  {
   "cell_type": "code",
   "execution_count": 15,
   "id": "b08e72b7",
   "metadata": {},
   "outputs": [],
   "source": [
    "from google.cloud import aiplatform\n",
    "\n",
    "from google.cloud import bigquery\n",
    "from google.protobuf import json_format\n",
    "from google.protobuf.struct_pb2 import Value\n",
    "import json\n",
    "import numpy as np"
   ]
  },
  {
   "cell_type": "markdown",
   "id": "1b34f1cc",
   "metadata": {},
   "source": [
    "clients:"
   ]
  },
  {
   "cell_type": "code",
   "execution_count": 16,
   "id": "11e140b6",
   "metadata": {},
   "outputs": [],
   "source": [
    "aiplatform.init(project=PROJECT_ID, location=REGION)\n",
    "bigquery = bigquery.Client()"
   ]
  },
  {
   "cell_type": "markdown",
   "id": "50990d52",
   "metadata": {},
   "source": [
    "parameters:"
   ]
  },
  {
   "cell_type": "code",
   "execution_count": 17,
   "id": "fb5ea95d",
   "metadata": {},
   "outputs": [],
   "source": [
    "DIR = f\"temp/{NOTEBOOK}\""
   ]
  },
  {
   "cell_type": "markdown",
   "id": "51d88337",
   "metadata": {},
   "source": [
    "environment:"
   ]
  },
  {
   "cell_type": "code",
   "execution_count": 18,
   "id": "71d83e04",
   "metadata": {},
   "outputs": [],
   "source": [
    "!rm -rf {DIR}\n",
    "!mkdir -p {DIR}"
   ]
  },
  {
   "cell_type": "markdown",
   "id": "e48165db",
   "metadata": {},
   "source": [
    "### Prepare a record for prediction: instance and parameters lists"
   ]
  },
  {
   "cell_type": "code",
   "execution_count": 8,
   "id": "4f3de847",
   "metadata": {},
   "outputs": [],
   "source": [
    "pred = bigquery.query(query = f\"SELECT * FROM {DATANAME}.{DATANAME}_prepped WHERE splits='TEST' LIMIT 10\").to_dataframe()"
   ]
  },
  {
   "cell_type": "code",
   "execution_count": 9,
   "id": "21148cfb",
   "metadata": {},
   "outputs": [
    {
     "data": {
      "text/html": [
       "<div>\n",
       "<style scoped>\n",
       "    .dataframe tbody tr th:only-of-type {\n",
       "        vertical-align: middle;\n",
       "    }\n",
       "\n",
       "    .dataframe tbody tr th {\n",
       "        vertical-align: top;\n",
       "    }\n",
       "\n",
       "    .dataframe thead th {\n",
       "        text-align: right;\n",
       "    }\n",
       "</style>\n",
       "<table border=\"1\" class=\"dataframe\">\n",
       "  <thead>\n",
       "    <tr style=\"text-align: right;\">\n",
       "      <th></th>\n",
       "      <th>Time</th>\n",
       "      <th>V1</th>\n",
       "      <th>V2</th>\n",
       "      <th>V3</th>\n",
       "      <th>V4</th>\n",
       "      <th>V5</th>\n",
       "      <th>V6</th>\n",
       "      <th>V7</th>\n",
       "      <th>V8</th>\n",
       "      <th>V9</th>\n",
       "      <th>...</th>\n",
       "      <th>V23</th>\n",
       "      <th>V24</th>\n",
       "      <th>V25</th>\n",
       "      <th>V26</th>\n",
       "      <th>V27</th>\n",
       "      <th>V28</th>\n",
       "      <th>Amount</th>\n",
       "      <th>Class</th>\n",
       "      <th>transaction_id</th>\n",
       "      <th>splits</th>\n",
       "    </tr>\n",
       "  </thead>\n",
       "  <tbody>\n",
       "    <tr>\n",
       "      <th>0</th>\n",
       "      <td>150738</td>\n",
       "      <td>2.143751</td>\n",
       "      <td>0.183322</td>\n",
       "      <td>-2.388584</td>\n",
       "      <td>0.515847</td>\n",
       "      <td>0.665733</td>\n",
       "      <td>-1.735340</td>\n",
       "      <td>0.950967</td>\n",
       "      <td>-0.600620</td>\n",
       "      <td>-0.005817</td>\n",
       "      <td>...</td>\n",
       "      <td>-0.169722</td>\n",
       "      <td>-0.007745</td>\n",
       "      <td>0.644994</td>\n",
       "      <td>0.733979</td>\n",
       "      <td>-0.126362</td>\n",
       "      <td>-0.096854</td>\n",
       "      <td>0.0</td>\n",
       "      <td>0</td>\n",
       "      <td>610dccc8-a94f-4b3a-92a8-63e01144f63b</td>\n",
       "      <td>TEST</td>\n",
       "    </tr>\n",
       "    <tr>\n",
       "      <th>1</th>\n",
       "      <td>136246</td>\n",
       "      <td>-2.075902</td>\n",
       "      <td>-0.739989</td>\n",
       "      <td>3.275072</td>\n",
       "      <td>4.722726</td>\n",
       "      <td>2.568343</td>\n",
       "      <td>0.928863</td>\n",
       "      <td>-0.968300</td>\n",
       "      <td>-0.472463</td>\n",
       "      <td>-0.410197</td>\n",
       "      <td>...</td>\n",
       "      <td>-1.220360</td>\n",
       "      <td>0.796193</td>\n",
       "      <td>-0.390845</td>\n",
       "      <td>0.096030</td>\n",
       "      <td>-0.484931</td>\n",
       "      <td>-0.952692</td>\n",
       "      <td>0.0</td>\n",
       "      <td>0</td>\n",
       "      <td>79255e0e-33e0-4f9c-a014-1f52b55e3b57</td>\n",
       "      <td>TEST</td>\n",
       "    </tr>\n",
       "    <tr>\n",
       "      <th>2</th>\n",
       "      <td>145301</td>\n",
       "      <td>-1.160897</td>\n",
       "      <td>1.569236</td>\n",
       "      <td>-0.959218</td>\n",
       "      <td>-1.325931</td>\n",
       "      <td>0.467754</td>\n",
       "      <td>-0.492321</td>\n",
       "      <td>0.403802</td>\n",
       "      <td>0.859218</td>\n",
       "      <td>-0.250481</td>\n",
       "      <td>...</td>\n",
       "      <td>-0.202913</td>\n",
       "      <td>-1.125976</td>\n",
       "      <td>0.065774</td>\n",
       "      <td>-0.059594</td>\n",
       "      <td>0.192667</td>\n",
       "      <td>0.128155</td>\n",
       "      <td>0.0</td>\n",
       "      <td>0</td>\n",
       "      <td>ef53a2fc-3aba-424e-8e35-caf76fa3c968</td>\n",
       "      <td>TEST</td>\n",
       "    </tr>\n",
       "    <tr>\n",
       "      <th>3</th>\n",
       "      <td>124668</td>\n",
       "      <td>2.049097</td>\n",
       "      <td>-0.023146</td>\n",
       "      <td>-1.534728</td>\n",
       "      <td>0.369062</td>\n",
       "      <td>0.185919</td>\n",
       "      <td>-1.135992</td>\n",
       "      <td>0.404738</td>\n",
       "      <td>-0.326297</td>\n",
       "      <td>0.111668</td>\n",
       "      <td>...</td>\n",
       "      <td>0.080560</td>\n",
       "      <td>0.139479</td>\n",
       "      <td>0.138779</td>\n",
       "      <td>0.535932</td>\n",
       "      <td>-0.099302</td>\n",
       "      <td>-0.086803</td>\n",
       "      <td>0.0</td>\n",
       "      <td>0</td>\n",
       "      <td>9edfc2a6-3c72-412a-9b1a-199bd9e7e154</td>\n",
       "      <td>TEST</td>\n",
       "    </tr>\n",
       "  </tbody>\n",
       "</table>\n",
       "<p>4 rows × 33 columns</p>\n",
       "</div>"
      ],
      "text/plain": [
       "     Time        V1        V2        V3        V4        V5        V6  \\\n",
       "0  150738  2.143751  0.183322 -2.388584  0.515847  0.665733 -1.735340   \n",
       "1  136246 -2.075902 -0.739989  3.275072  4.722726  2.568343  0.928863   \n",
       "2  145301 -1.160897  1.569236 -0.959218 -1.325931  0.467754 -0.492321   \n",
       "3  124668  2.049097 -0.023146 -1.534728  0.369062  0.185919 -1.135992   \n",
       "\n",
       "         V7        V8        V9  ...       V23       V24       V25       V26  \\\n",
       "0  0.950967 -0.600620 -0.005817  ... -0.169722 -0.007745  0.644994  0.733979   \n",
       "1 -0.968300 -0.472463 -0.410197  ... -1.220360  0.796193 -0.390845  0.096030   \n",
       "2  0.403802  0.859218 -0.250481  ... -0.202913 -1.125976  0.065774 -0.059594   \n",
       "3  0.404738 -0.326297  0.111668  ...  0.080560  0.139479  0.138779  0.535932   \n",
       "\n",
       "        V27       V28  Amount  Class                        transaction_id  \\\n",
       "0 -0.126362 -0.096854     0.0      0  610dccc8-a94f-4b3a-92a8-63e01144f63b   \n",
       "1 -0.484931 -0.952692     0.0      0  79255e0e-33e0-4f9c-a014-1f52b55e3b57   \n",
       "2  0.192667  0.128155     0.0      0  ef53a2fc-3aba-424e-8e35-caf76fa3c968   \n",
       "3 -0.099302 -0.086803     0.0      0  9edfc2a6-3c72-412a-9b1a-199bd9e7e154   \n",
       "\n",
       "   splits  \n",
       "0    TEST  \n",
       "1    TEST  \n",
       "2    TEST  \n",
       "3    TEST  \n",
       "\n",
       "[4 rows x 33 columns]"
      ]
     },
     "execution_count": 9,
     "metadata": {},
     "output_type": "execute_result"
    }
   ],
   "source": [
    "pred.head(4)"
   ]
  },
  {
   "cell_type": "code",
   "execution_count": 19,
   "id": "15bb1d02",
   "metadata": {},
   "outputs": [],
   "source": [
    "#newob = pred[pred.columns[~pred.columns.isin(VAR_OMIT.split()+[VAR_TARGET, 'splits'])]].to_dict(orient='records')[0]\n",
    "newob = pred[pred.columns[~pred.columns.isin(VAR_OMIT.split()+[VAR_TARGET])]].to_dict(orient='records')[0]\n",
    "#newob"
   ]
  },
  {
   "cell_type": "markdown",
   "id": "5b438694",
   "metadata": {},
   "source": [
    "Need to understand the format of variables that the predictions expect.  AutoML may convert the type of some variables. The following cells retrieve the model from the endpoint and its schemata:"
   ]
  },
  {
   "cell_type": "code",
   "execution_count": 20,
   "id": "fc8f7bb2",
   "metadata": {},
   "outputs": [],
   "source": [
    "newob['Time'] = str(newob['Time'])"
   ]
  },
  {
   "cell_type": "code",
   "execution_count": 21,
   "id": "e89923ef",
   "metadata": {},
   "outputs": [],
   "source": [
    "instances = [json_format.ParseDict(newob, Value())]\n",
    "parameters = json_format.ParseDict({}, Value())"
   ]
  },
  {
   "cell_type": "code",
   "execution_count": 27,
   "id": "b7730191-b57b-46de-adce-cf1058fbdb46",
   "metadata": {},
   "outputs": [
    {
     "data": {
      "text/plain": [
       "{'Time': '150738',\n",
       " 'V1': 2.1437507566996796,\n",
       " 'V2': 0.183321526416093,\n",
       " 'V3': -2.38858375636735,\n",
       " 'V4': 0.515847416510303,\n",
       " 'V5': 0.665733161131883,\n",
       " 'V6': -1.73534049874417,\n",
       " 'V7': 0.9509666524123549,\n",
       " 'V8': -0.600619803836902,\n",
       " 'V9': -0.00581676860900149,\n",
       " 'V10': 0.295750822004403,\n",
       " 'V11': -0.974677392874006,\n",
       " 'V12': -0.398013601967856,\n",
       " 'V13': -1.18333941703157,\n",
       " 'V14': 1.04173283377388,\n",
       " 'V15': -0.11180729817575999,\n",
       " 'V16': -0.8027343789958321,\n",
       " 'V17': -0.0158236218155932,\n",
       " 'V18': -0.636531058485573,\n",
       " 'V19': -0.036669592599691006,\n",
       " 'V20': -0.33224253230361,\n",
       " 'V21': 0.25526133163050196,\n",
       " 'V22': 0.902599477817529,\n",
       " 'V23': -0.169721578592358,\n",
       " 'V24': -0.0077451364826243,\n",
       " 'V25': 0.64499415151851,\n",
       " 'V26': 0.733978924299476,\n",
       " 'V27': -0.12636220011930302,\n",
       " 'V28': -0.0968535450952978,\n",
       " 'Amount': 0.0,\n",
       " 'splits': 'TEST'}"
      ]
     },
     "execution_count": 27,
     "metadata": {},
     "output_type": "execute_result"
    }
   ],
   "source": [
    "newob"
   ]
  },
  {
   "cell_type": "markdown",
   "id": "e671a9a5",
   "metadata": {},
   "source": [
    "### Get Predictions: Python Client"
   ]
  },
  {
   "cell_type": "code",
   "execution_count": 23,
   "id": "072f0a6f",
   "metadata": {},
   "outputs": [
    {
     "data": {
      "text/plain": [
       "'endpoint'"
      ]
     },
     "execution_count": 23,
     "metadata": {},
     "output_type": "execute_result"
    }
   ],
   "source": [
    "endpoint = aiplatform.Endpoint.list(filter=f'display_name=endpoint')[0]\n",
    "endpoint.display_name"
   ]
  },
  {
   "cell_type": "code",
   "execution_count": 24,
   "id": "b775c99f",
   "metadata": {},
   "outputs": [
    {
     "data": {
      "text/plain": [
       "Prediction(predictions=[{'classes': ['0', '1'], 'scores': [0.999306321144104, 0.000693720590788871]}], deployed_model_id='4870269163047747584', model_version_id='1', model_resource_name='projects/24006034033/locations/us-central1/models/2895007518864441344', explanations=None)"
      ]
     },
     "execution_count": 24,
     "metadata": {},
     "output_type": "execute_result"
    }
   ],
   "source": [
    "prediction = endpoint.predict(instances=instances, parameters=parameters)\n",
    "prediction"
   ]
  },
  {
   "cell_type": "code",
   "execution_count": 28,
   "id": "1e716973",
   "metadata": {},
   "outputs": [
    {
     "data": {
      "text/plain": [
       "'0'"
      ]
     },
     "execution_count": 28,
     "metadata": {},
     "output_type": "execute_result"
    }
   ],
   "source": [
    "prediction.predictions[0]['classes'][np.argmax(prediction.predictions[0]['scores'])]"
   ]
  },
  {
   "cell_type": "markdown",
   "id": "a0c157f2",
   "metadata": {},
   "source": [
    "### Get Predictions: REST"
   ]
  },
  {
   "cell_type": "code",
   "execution_count": 30,
   "id": "28b310ce",
   "metadata": {},
   "outputs": [],
   "source": [
    "with open(f'{DIR}/request.json','w') as file:\n",
    "    file.write(json.dumps({\"instances\": [newob]}))"
   ]
  },
  {
   "cell_type": "code",
   "execution_count": 31,
   "id": "2041f335",
   "metadata": {},
   "outputs": [
    {
     "name": "stdout",
     "output_type": "stream",
     "text": [
      "{\n",
      "  \"predictions\": [\n",
      "    {\n",
      "      \"classes\": [\n",
      "        \"0\",\n",
      "        \"1\"\n",
      "      ],\n",
      "      \"scores\": [\n",
      "        0.999306321144104,\n",
      "        0.000693720590788871\n",
      "      ]\n",
      "    }\n",
      "  ],\n",
      "  \"deployedModelId\": \"4870269163047747584\",\n",
      "  \"model\": \"projects/24006034033/locations/us-central1/models/2895007518864441344\",\n",
      "  \"modelDisplayName\": \"untitled_1672326136251\",\n",
      "  \"modelVersionId\": \"1\"\n",
      "}\n"
     ]
    }
   ],
   "source": [
    "!curl -X POST \\\n",
    "-H \"Authorization: Bearer \"$(gcloud auth application-default print-access-token) \\\n",
    "-H \"Content-Type: application/json; charset=utf-8\" \\\n",
    "-d @{DIR}/request.json \\\n",
    "https://{REGION}-aiplatform.googleapis.com/v1/{endpoint.resource_name}:predict"
   ]
  },
  {
   "cell_type": "markdown",
   "id": "71bd36ef",
   "metadata": {},
   "source": [
    "### Get Predictions: gcloud (CLI)"
   ]
  },
  {
   "cell_type": "code",
   "execution_count": 17,
   "id": "ad4befbd",
   "metadata": {},
   "outputs": [
    {
     "name": "stdout",
     "output_type": "stream",
     "text": [
      "Using endpoint [https://us-central1-prediction-aiplatform.googleapis.com/]\n",
      "[{'classes': ['0', '1'], 'scores': [0.7969269156455994, 0.2030730545520782]}]\n"
     ]
    }
   ],
   "source": [
    "!gcloud beta ai endpoints predict {endpoint.name.rsplit('/',1)[-1]} --region={REGION} --json-request={DIR}/request.json"
   ]
  },
  {
   "cell_type": "markdown",
   "id": "030bbd84",
   "metadata": {},
   "source": [
    "---\n",
    "## Explanations\n",
    "Interpretation Guide\n",
    "- https://cloud.google.com/vertex-ai/docs/predictions/interpreting-results-automl#tabular"
   ]
  },
  {
   "cell_type": "code",
   "execution_count": 18,
   "id": "81348d83",
   "metadata": {},
   "outputs": [],
   "source": [
    "explanation = endpoint.explain(instances=instances, parameters=parameters)"
   ]
  },
  {
   "cell_type": "code",
   "execution_count": 19,
   "id": "a2e142ff",
   "metadata": {},
   "outputs": [
    {
     "data": {
      "text/plain": [
       "[{'scores': [0.7969269156455994, 0.2030730545520782], 'classes': ['0', '1']}]"
      ]
     },
     "execution_count": 19,
     "metadata": {},
     "output_type": "execute_result"
    }
   ],
   "source": [
    "explanation.predictions"
   ]
  },
  {
   "cell_type": "code",
   "execution_count": 20,
   "id": "33621b6f",
   "metadata": {},
   "outputs": [
    {
     "name": "stdout",
     "output_type": "stream",
     "text": [
      "attribution:\n",
      "baseline output 0.7983816862106323\n",
      "instance output 0.7969269156455994\n",
      "output_index [0]\n",
      "output display value 0\n",
      "approximation error 0.01869985340771198\n"
     ]
    }
   ],
   "source": [
    "print(\"attribution:\")\n",
    "print(\"baseline output\",explanation.explanations[0].attributions[0].baseline_output_value)\n",
    "print(\"instance output\",explanation.explanations[0].attributions[0].instance_output_value)\n",
    "print(\"output_index\",explanation.explanations[0].attributions[0].output_index)\n",
    "print(\"output display value\",explanation.explanations[0].attributions[0].output_display_name)\n",
    "print(\"approximation error\",explanation.explanations[0].attributions[0].approximation_error)"
   ]
  },
  {
   "cell_type": "code",
   "execution_count": 60,
   "id": "7a1d220f-0174-481a-a206-c7a6819015f4",
   "metadata": {},
   "outputs": [
    {
     "data": {
      "image/png": "[encoded data removed]",
      "text/plain": [
       "<Figure size 648x648 with 1 Axes>"
      ]
     },
     "metadata": {
      "needs_background": "light"
     },
     "output_type": "display_data"
    }
   ],
   "source": [
    "import matplotlib.pyplot as plt\n",
    "features = []\n",
    "scores = []\n",
    "for k in explanation.explanations[0].attributions[0].feature_attributions:\n",
    "    features.append(k)\n",
    "    scores.append(explanation.explanations[0].attributions[0].feature_attributions[k])\n",
    "features = [x for _, x in sorted(zip(scores, features))]\n",
    "scores = sorted(scores)\n",
    "fig, ax = plt.subplots()\n",
    "fig.set_size_inches(9, 9)\n",
    "ax.barh(features, scores)\n",
    "fig.show()"
   ]
  },
  {
   "cell_type": "markdown",
   "id": "3bb07f70",
   "metadata": {},
   "source": [
    "---\n",
    "## Remove Resources\n",
    "see notebook \"99 - Cleanup\""
   ]
  }
 ],
 "metadata": {
  "environment": {
   "kernel": "python3",
   "name": "tf2-gpu.2-3.m102",
   "type": "gcloud",
   "uri": "gcr.io/deeplearning-platform-release/tf2-gpu.2-3:m102"
  },
  "kernelspec": {
   "display_name": "Python 3 (ipykernel)",
   "language": "python",
   "name": "python3"
  },
  "language_info": {
   "codemirror_mode": {
    "name": "ipython",
    "version": 3
   },
   "file_extension": ".py",
   "mimetype": "text/x-python",
   "name": "python",
   "nbconvert_exporter": "python",
   "pygments_lexer": "ipython3",
   "version": "3.7.12"
  }
 },
 "nbformat": 4,
 "nbformat_minor": 5
}
